{
 "cells": [
  {
   "cell_type": "markdown",
   "id": "65a6a08c",
   "metadata": {},
   "source": [
    "## Weather Prediction (Classification)\n",
    "---"
   ]
  },
  {
   "cell_type": "code",
   "execution_count": 38,
   "id": "5a3f77e6",
   "metadata": {},
   "outputs": [],
   "source": [
    "#imports \n",
    "import numpy as np\n",
    "import pandas as pd\n",
    "import matplotlib.pyplot as plt\n",
    "import seaborn as sns\n",
    "import pickle\n",
    "\n",
    "from sklearn import preprocessing\n",
    "from sklearn.model_selection import train_test_split\n",
    "from sklearn.preprocessing import MinMaxScaler\n",
    "from sklearn.metrics import accuracy_score\n",
    "\n",
    "# models\n",
    "from sklearn.linear_model import LogisticRegression\n",
    "from sklearn.svm import SVC\n",
    "from sklearn.neighbors import KNeighborsClassifier\n",
    "from sklearn.naive_bayes import GaussianNB\n",
    "from sklearn.ensemble import RandomForestClassifier"
   ]
  },
  {
   "cell_type": "markdown",
   "id": "aca7a53f",
   "metadata": {},
   "source": [
    "### Preprocessing\n",
    "---"
   ]
  },
  {
   "cell_type": "code",
   "execution_count": 39,
   "id": "e6a4ea5b",
   "metadata": {},
   "outputs": [
    {
     "name": "stdout",
     "output_type": "stream",
     "text": [
      "       Summary  Temperature (C)  Humidity  Wind Speed (km/h)  \\\n",
      "43304       17        15.905556      0.93             9.3219   \n",
      "25864       17        11.266667      0.78            13.7333   \n",
      "59948       17        18.816667      0.93             0.1449   \n",
      "38011       18         3.666667      0.93            13.7816   \n",
      "75480       17         7.800000      0.79            13.4435   \n",
      "\n",
      "       Wind Bearing (degrees)  Visibility (km)  Pressure (millibars)  \n",
      "43304                   164.0           5.5384               1013.33  \n",
      "25864                    79.0          10.0464               1019.17  \n",
      "59948                     0.0           9.9820               1017.27  \n",
      "38011                   307.0           3.3810               1009.51  \n",
      "75480                   181.0          15.8263               1012.60  \n",
      "[[0.23076923 0.72234722 0.65       ... 0.39832869 0.964      0.97635891]\n",
      " [0.65384615 0.51552516 0.83       ... 0.97493036 0.7        0.965241  ]\n",
      " [0.73076923 0.55674557 0.64       ... 0.86629526 0.711      0.970126  ]\n",
      " ...\n",
      " [0.65384615 0.57348573 0.84       ... 0.         0.623      0.97003996]\n",
      " [0.69230769 0.63927639 0.91       ... 0.33147632 0.437      0.95394146]\n",
      " [0.65384615 0.57762578 0.64       ... 0.41504178 0.966      0.95861614]]\n",
      "7\n"
     ]
    }
   ],
   "source": [
    "#load data\n",
    "data = pd.read_csv(\"data/weather_data.csv\")\n",
    "\n",
    "# associate summary with int (label encoding)\n",
    "def LABEL_ENCODING(col):\n",
    "    label_encoder = preprocessing.LabelEncoder()\n",
    "    data[col] = label_encoder.fit_transform(data[col])\n",
    "    data[col].unique()\n",
    "LABEL_ENCODING(\"Summary\")\n",
    "\n",
    "# drop columns\n",
    "\n",
    "x = data.drop([\"Formatted Date\", \"Precip Type\", \"Apparent Temperature (C)\", \"Loud Cover\", \"Daily Summary\"], axis=1)\n",
    "\n",
    "y = data[\"Summary\"]\n",
    "\n",
    "# split in train/test (.75/.25)\n",
    "X_train, X_test, y_train, y_test = train_test_split(x, y, test_size=0.25, random_state=0)\n",
    "print(X_train.head(5))\n",
    "\n",
    "# save X_test as csv\n",
    "filepath = \"data/sensor_data.csv\"\n",
    "X_test.to_csv(filepath)\n",
    "\n",
    "# feature scaling\n",
    "scaler = MinMaxScaler()\n",
    "X_train = scaler.fit_transform(X_train)\n",
    "print(X_train[2000:])\n",
    "print(len(X_train[0]))\n",
    "X_test = scaler.transform(X_test)\n"
   ]
  },
  {
   "cell_type": "markdown",
   "id": "d71c0f2f",
   "metadata": {},
   "source": [
    "### Train/Predict\n",
    "---"
   ]
  },
  {
   "cell_type": "code",
   "execution_count": 41,
   "id": "09a6514b",
   "metadata": {},
   "outputs": [
    {
     "name": "stdout",
     "output_type": "stream",
     "text": [
      "Accuracy score: 0.9373807746537282\n"
     ]
    },
    {
     "name": "stderr",
     "output_type": "stream",
     "text": [
      "/Users/marvinkronsbein/opt/miniconda3/envs/venv/lib/python3.9/site-packages/sklearn/linear_model/_logistic.py:444: ConvergenceWarning: lbfgs failed to converge (status=1):\n",
      "STOP: TOTAL NO. of ITERATIONS REACHED LIMIT.\n",
      "\n",
      "Increase the number of iterations (max_iter) or scale the data as shown in:\n",
      "    https://scikit-learn.org/stable/modules/preprocessing.html\n",
      "Please also refer to the documentation for alternative solver options:\n",
      "    https://scikit-learn.org/stable/modules/linear_model.html#logistic-regression\n",
      "  n_iter_i = _check_optimize_result(\n"
     ]
    }
   ],
   "source": [
    "# logistic regression\n",
    "classifier = LogisticRegression(random_state=0)\n",
    "classifier.fit(X_train, y_train)\n",
    "\n",
    "# save the model\n",
    "filename = 'models/logistic_regression.sav'\n",
    "pickle.dump(classifier, open(filename, 'wb'))\n",
    "\n",
    "# predict\n",
    "y_pred = classifier.predict(X_test)\n",
    "acc_log_reg = accuracy_score(y_test, y_pred)\n",
    "print(f\"Accuracy score: {acc_log_reg}\")"
   ]
  },
  {
   "cell_type": "code",
   "execution_count": 42,
   "id": "075babf7",
   "metadata": {},
   "outputs": [
    {
     "name": "stdout",
     "output_type": "stream",
     "text": [
      "Accuracy score: 0.993696607779713\n"
     ]
    }
   ],
   "source": [
    "# svm \n",
    "classifier = SVC(kernel=\"linear\", random_state=0)\n",
    "classifier.fit(X_train, y_train)\n",
    "\n",
    "# save the model\n",
    "filename = 'models/svm.sav'\n",
    "pickle.dump(classifier, open(filename, 'wb'))\n",
    "\n",
    "# predict\n",
    "y_pred = classifier.predict(X_test)\n",
    "acc_svm = accuracy_score(y_test, y_pred)\n",
    "print(f\"Accuracy score: {acc_svm}\")"
   ]
  },
  {
   "cell_type": "code",
   "execution_count": 43,
   "id": "7e80ae0b",
   "metadata": {},
   "outputs": [
    {
     "name": "stdout",
     "output_type": "stream",
     "text": [
      "Accuracy score: 0.9072737828647259\n"
     ]
    }
   ],
   "source": [
    "# knn\n",
    "classifier = KNeighborsClassifier(n_neighbors=5, metric=\"minkowski\", p=2)\n",
    "classifier.fit(X_train, y_train)\n",
    "\n",
    "# save the model\n",
    "filename = 'models/knn.sav'\n",
    "pickle.dump(classifier, open(filename, 'wb'))\n",
    "\n",
    "# predict\n",
    "y_pred = classifier.predict(X_test)\n",
    "acc_knn = accuracy_score(y_test, y_pred)\n",
    "print(f\"Accuracy score: {acc_knn}\")"
   ]
  },
  {
   "cell_type": "code",
   "execution_count": 44,
   "id": "9e5c989e",
   "metadata": {},
   "outputs": [
    {
     "name": "stdout",
     "output_type": "stream",
     "text": [
      "Accuracy score: 0.9999170606286805\n"
     ]
    }
   ],
   "source": [
    "classifier = GaussianNB()\n",
    "classifier.fit(X_train, y_train)\n",
    "\n",
    "# save the model\n",
    "filename = 'models/naive_bayes.sav'\n",
    "pickle.dump(classifier, open(filename, 'wb'))\n",
    "\n",
    "# predict\n",
    "y_pred = classifier.predict(X_test)\n",
    "acc_bayes = accuracy_score(y_test, y_pred)\n",
    "print(f\"Accuracy score: {acc_bayes}\")"
   ]
  },
  {
   "cell_type": "code",
   "execution_count": 46,
   "id": "a467b916",
   "metadata": {},
   "outputs": [
    {
     "name": "stdout",
     "output_type": "stream",
     "text": [
      "Accuracy score: 0.9995853031434022\n"
     ]
    }
   ],
   "source": [
    "classifier = RandomForestClassifier(n_estimators=40, random_state=0)\n",
    "classifier.fit(X_train, y_train)\n",
    "\n",
    "# save the model\n",
    "filename = 'models/random_forest.sav'\n",
    "pickle.dump(classifier, open(filename, 'wb'))\n",
    "\n",
    "# predict\n",
    "y_pred = classifier.predict(X_test)\n",
    "acc_rf = classifier.score(X_test,y_test)\n",
    "print(f\"Accuracy score: {acc_rf}\")"
   ]
  },
  {
   "cell_type": "markdown",
   "id": "034c743c",
   "metadata": {},
   "source": [
    "### Visualize Model Accuracy\n",
    "---"
   ]
  },
  {
   "cell_type": "code",
   "execution_count": 47,
   "id": "42736af7",
   "metadata": {
    "scrolled": false
   },
   "outputs": [
    {
     "data": {
      "image/png": "[encoded data removed]",
      "text/plain": [
       "<Figure size 1152x576 with 1 Axes>"
      ]
     },
     "metadata": {},
     "output_type": "display_data"
    }
   ],
   "source": [
    "accuracy_scores=[\n",
    "    acc_log_reg\n",
    "    ,acc_svm\n",
    "    ,acc_knn\n",
    "    ,acc_bayes\n",
    "    ,acc_rf\n",
    "]\n",
    "\n",
    "labels=[\n",
    "    \"Logistic Regression\"\n",
    "    ,\"SVM\"\n",
    "    ,\"KNN\"\n",
    "    ,\"Naive Bayes\"\n",
    "    ,\"Random Forest\"\n",
    "]\n",
    "\n",
    "# plot params / plotting\n",
    "plt.rcParams['figure.figsize']=8,6\n",
    "sns.set_style(\"darkgrid\")\n",
    "plt.figure(figsize=(16,8))\n",
    "ax = sns.barplot(x=labels, y=accuracy_scores, palette = \"mako\", saturation =1.5)\n",
    "plt.xlabel(\"Classification Models\", fontsize = 20 )\n",
    "plt.ylabel(\"Accuracy\", fontsize = 20)\n",
    "plt.title(\"Accuracy of different Classification Models\", fontsize = 20)\n",
    "plt.xticks(fontsize = 11, horizontalalignment = 'center', rotation = 8)\n",
    "plt.yticks(fontsize = 13)\n",
    "for p in ax.patches:\n",
    "    width, height = p.get_width(), p.get_height()\n",
    "    x, y = p.get_xy() \n",
    "    ax.annotate(f'{height:.2%}', (x + width/2, y + height*1.01), ha='center', fontsize = 'x-large')\n",
    "plt.show()"
   ]
  },
  {
   "cell_type": "code",
   "execution_count": null,
   "id": "8bc9f68c",
   "metadata": {},
   "outputs": [],
   "source": []
  }
 ],
 "metadata": {
  "kernelspec": {
   "display_name": "Python 3 (ipykernel)",
   "language": "python",
   "name": "python3"
  },
  "language_info": {
   "codemirror_mode": {
    "name": "ipython",
    "version": 3
   },
   "file_extension": ".py",
   "mimetype": "text/x-python",
   "name": "python",
   "nbconvert_exporter": "python",
   "pygments_lexer": "ipython3",
   "version": "3.9.2"
  }
 },
 "nbformat": 4,
 "nbformat_minor": 5
}
